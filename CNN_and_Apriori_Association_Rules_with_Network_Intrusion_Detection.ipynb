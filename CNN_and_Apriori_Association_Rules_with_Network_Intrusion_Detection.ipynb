{
  "cells": [
    {
      "cell_type": "markdown",
      "metadata": {
        "id": "view-in-github",
        "colab_type": "text"
      },
      "source": [
        "<a href=\"https://colab.research.google.com/github/mohammed3200/Adaan/blob/main/CNN_and_Apriori_Association_Rules_with_Network_Intrusion_Detection.ipynb\" target=\"_parent\"><img src=\"https://colab.research.google.com/assets/colab-badge.svg\" alt=\"Open In Colab\"/></a>"
      ]
    },
    {
      "cell_type": "code",
      "execution_count": null,
      "metadata": {
        "id": "vnZTyPsgPwxT"
      },
      "outputs": [],
      "source": [
        "from google.colab import drive\n",
        "drive.mount('/content/drive')"
      ]
    },
    {
      "cell_type": "code",
      "execution_count": null,
      "metadata": {
        "id": "CrpIxGM8QOrS"
      },
      "outputs": [],
      "source": [
        "# Step 1: Import necessary libraries\n",
        "import pandas as pd\n",
        "import numpy as np\n",
        "from sklearn.model_selection import train_test_split\n",
        "from sklearn.preprocessing import StandardScaler\n",
        "from tensorflow.keras.models import Sequential\n",
        "from tensorflow.keras.layers import Dense, Conv2D, Flatten, Dropout\n",
        "from tensorflow.keras.utils import to_categorical\n",
        "from mlxtend.frequent_patterns import apriori, association_rules"
      ]
    },
    {
      "cell_type": "code",
      "execution_count": null,
      "metadata": {
        "id": "pC7MnwK6QTzC"
      },
      "outputs": [],
      "source": [
        "# Step 2: Load datasets\n",
        "train_data = pd.read_csv('/content/drive/MyDrive/content/Train_data.csv')\n",
        "test_data = pd.read_csv('/content/drive/MyDrive/content/Test_data.csv')"
      ]
    },
    {
      "cell_type": "code",
      "execution_count": null,
      "metadata": {
        "id": "domFk2TgQZDA"
      },
      "outputs": [],
      "source": [
        "# Step 3: Data Preprocessing\n",
        "def preprocess_data(df):\n",
        "    # Convert categorical columns to one-hot encoding\n",
        "    df_encoded = pd.get_dummies(df, drop_first=True)\n",
        "    return df_encoded\n",
        "\n",
        "train_data_encoded = preprocess_data(train_data)\n",
        "test_data_encoded = preprocess_data(test_data)"
      ]
    },
    {
      "cell_type": "code",
      "execution_count": null,
      "metadata": {
        "id": "mBfQkCDj7PGr"
      },
      "outputs": [],
      "source": [
        "# Step 4: Generate Association Rules\n",
        "def generate_association_rules(data):\n",
        "    frequent_itemsets = apriori(data, min_support=0.1, use_colnames=True)\n",
        "    rules = association_rules(frequent_itemsets, metric=\"confidence\", min_threshold=0.5)\n",
        "    return rules\n",
        "\n",
        "rules = generate_association_rules(train_data_encoded)"
      ]
    },
    {
      "cell_type": "code",
      "execution_count": null,
      "metadata": {
        "id": "zcjXITHXQeNT"
      },
      "outputs": [],
      "source": [
        "# Step 5: Prepare features based on the rules\n",
        "def prepare_features_with_rules(data, rules):\n",
        "    # Create a list of features from the rules' antecedents\n",
        "    features = rules['antecedents'].apply(lambda x: list(x)).explode().value_counts().index.tolist()\n",
        "    X_features = np.zeros((data.shape[0], len(features)))\n",
        "\n",
        "    for i, row in enumerate(data.values):\n",
        "        for feature in features:\n",
        "            if feature in row:\n",
        "                X_features[i, features.index(feature)] = 1\n",
        "\n",
        "    return X_features\n",
        "\n",
        "X_train_features = prepare_features_with_rules(train_data_encoded, rules)\n",
        "X_test_features = prepare_features_with_rules(test_data_encoded, rules)"
      ]
    },
    {
      "cell_type": "code",
      "execution_count": null,
      "metadata": {
        "id": "2HfXvNzSQxzQ"
      },
      "outputs": [],
      "source": [
        "# Step 6: Reshape data for CNN input\n",
        "X_train_features = X_train_features.reshape(-1, X_train_features.shape[1], 1, 1)\n",
        "X_test_features = X_test_features.reshape(-1, X_test_features.shape[1], 1, 1)"
      ]
    },
    {
      "cell_type": "code",
      "execution_count": null,
      "metadata": {
        "id": "jHNSaDjNQ2E3"
      },
      "outputs": [],
      "source": [
        "# Step 7: Prepare labels for training\n",
        "y_train = train_data['label']  # Assuming 'label' is the target column\n",
        "y_test = test_data['label']\n",
        "y_train_encoded = to_categorical(y_train)\n",
        "y_test_encoded = to_categorical(y_test)"
      ]
    },
    {
      "cell_type": "code",
      "source": [
        "# Step 8: Build the CNN model\n",
        "model = Sequential()\n",
        "model.add(Conv2D(32, (1, 1), activation='relu', input_shape=(X_train_features.shape[1], 1, 1)))\n",
        "model.add(Dropout(0.5))\n",
        "model.add(Flatten())\n",
        "model.add(Dense(64, activation='relu'))\n",
        "model.add(Dense(y_train_encoded.shape[1], activation='softmax'))"
      ],
      "metadata": {
        "id": "WqBWQ-ulk5KY"
      },
      "execution_count": null,
      "outputs": []
    },
    {
      "cell_type": "code",
      "execution_count": null,
      "metadata": {
        "id": "VhbpNbyeQ-Sf"
      },
      "outputs": [],
      "source": [
        "# Step 9: Compile the model\n",
        "model.compile(optimizer='adam', loss='categorical_crossentropy', metrics=['accuracy'])"
      ]
    },
    {
      "cell_type": "code",
      "source": [
        "# Step 10: Train the model\n",
        "model.fit(X_train_features, y_train_encoded, epochs=20, batch_size=32, validation_split=0.1)"
      ],
      "metadata": {
        "id": "8E7BS0cLk_Yx"
      },
      "execution_count": null,
      "outputs": []
    },
    {
      "cell_type": "code",
      "source": [
        "# Step 11: Evaluate the model\n",
        "loss, accuracy = model.evaluate(X_test_features, y_test_encoded)\n",
        "print(f'Test Accuracy: {accuracy:.2f}')"
      ],
      "metadata": {
        "id": "IZurxMXGKAU-"
      },
      "execution_count": null,
      "outputs": []
    }
  ],
  "metadata": {
    "colab": {
      "provenance": [],
      "authorship_tag": "ABX9TyPqrnmrbDw1EOheQK7Trmku",
      "include_colab_link": true
    },
    "kernelspec": {
      "display_name": "Python 3",
      "name": "python3"
    },
    "language_info": {
      "name": "python"
    }
  },
  "nbformat": 4,
  "nbformat_minor": 0
}